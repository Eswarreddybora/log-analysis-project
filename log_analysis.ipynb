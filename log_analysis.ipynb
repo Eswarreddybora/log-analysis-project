{
 "cells": [
  {
   "cell_type": "code",
   "execution_count": 1,
   "id": "47734b5d-07af-4e9b-899c-6d4cee8f7b2a",
   "metadata": {},
   "outputs": [],
   "source": [
    "import re\n",
    "import csv\n",
    "from collections import Counter\n",
    "\n",
    "# Function to parse the log file\n",
    "def parse_log_file(file_path):\n",
    "    with open(file_path, 'r') as file:\n",
    "        log_data = file.readlines()\n",
    "    return log_data\n",
    "\n",
    "# Function to count requests per IP address\n",
    "def count_requests_per_ip(log_data):\n",
    "    ip_addresses = [re.findall(r'^\\S+', line)[0] for line in log_data]\n",
    "    ip_counts = Counter(ip_addresses)\n",
    "    return ip_counts.most_common()\n",
    "\n",
    "# Function to find the most accessed endpoint\n",
    "def most_accessed_endpoint(log_data):\n",
    "    endpoints = [re.findall(r'\"(?:GET|POST) (\\S+)', line)[0] for line in log_data]\n",
    "    endpoint_counts = Counter(endpoints)\n",
    "    most_accessed = endpoint_counts.most_common(1)\n",
    "    return most_accessed[0] if most_accessed else ('', 0)\n",
    "\n",
    "# Function to detect suspicious activity (failed login attempts)\n",
    "def detect_suspicious_activity(log_data, threshold=10):\n",
    "    failed_logins = [re.findall(r'(\\S+) - - \\[.*\\] \"POST /login', line)[0] for line in log_data if '401' in line]\n",
    "    failed_counts = Counter(failed_logins)\n",
    "    suspicious_ips = [(ip, count) for ip, count in failed_counts.items() if count > threshold]\n",
    "    return suspicious_ips\n",
    "\n",
    "# Function to save results to CSV\n",
    "def save_results_to_csv(ip_results, endpoint_results, suspicious_results):\n",
    "    with open('log_analysis_results.csv', 'w', newline='') as csvfile:\n",
    "        fieldnames = ['IP Address', 'Request Count']\n",
    "        writer = csv.writer(csvfile)\n",
    "        writer.writerow(fieldnames)\n",
    "        writer.writerows(ip_results)\n",
    "\n",
    "        writer.writerow(['', ''])\n",
    "        writer.writerow(['Most Accessed Endpoint', 'Access Count'])\n",
    "        writer.writerow([endpoint_results[0], endpoint_results[1]])\n",
    "\n",
    "        writer.writerow(['', ''])\n",
    "        writer.writerow(['Suspicious Activity IP Address', 'Failed Login Attempts'])\n",
    "        writer.writerows(suspicious_results)\n"
   ]
  },
  {
   "cell_type": "code",
   "execution_count": 2,
   "id": "fa9eebae-6b47-42f2-b7bf-17f72f1b6020",
   "metadata": {},
   "outputs": [
    {
     "name": "stdout",
     "output_type": "stream",
     "text": [
      "IP Address Requests:\n",
      "203.0.113.5: 8\n",
      "198.51.100.23: 8\n",
      "192.168.1.1: 7\n",
      "10.0.0.2: 6\n",
      "192.168.1.100: 5\n",
      "\n",
      "Most Accessed Endpoint: /login (Accessed 13 times)\n",
      "\n",
      "Suspicious Activity:\n"
     ]
    }
   ],
   "source": [
    "if __name__ == \"__main__\":\n",
    "    log_data = parse_log_file('sample.log')\n",
    "\n",
    "    # Analysis\n",
    "    ip_results = count_requests_per_ip(log_data)\n",
    "    endpoint_results = most_accessed_endpoint(log_data)\n",
    "    suspicious_results = detect_suspicious_activity(log_data)\n",
    "\n",
    "    # Display Results\n",
    "    print(\"IP Address Requests:\")\n",
    "    for ip, count in ip_results:\n",
    "        print(f\"{ip}: {count}\")\n",
    "\n",
    "    print(f\"\\nMost Accessed Endpoint: {endpoint_results[0]} (Accessed {endpoint_results[1]} times)\")\n",
    "\n",
    "    print(\"\\nSuspicious Activity:\")\n",
    "    for ip, count in suspicious_results:\n",
    "        print(f\"{ip}: {count} failed login attempts\")\n",
    "\n",
    "    # Save Results\n",
    "    save_results_to_csv(ip_results, endpoint_results, suspicious_results)\n"
   ]
  },
  {
   "cell_type": "code",
   "execution_count": null,
   "id": "068061b8-28d4-4be6-a4d6-cbe6a48e0bac",
   "metadata": {},
   "outputs": [],
   "source": []
  }
 ],
 "metadata": {
  "kernelspec": {
   "display_name": "Python 3 (ipykernel)",
   "language": "python",
   "name": "python3"
  },
  "language_info": {
   "codemirror_mode": {
    "name": "ipython",
    "version": 3
   },
   "file_extension": ".py",
   "mimetype": "text/x-python",
   "name": "python",
   "nbconvert_exporter": "python",
   "pygments_lexer": "ipython3",
   "version": "3.11.7"
  }
 },
 "nbformat": 4,
 "nbformat_minor": 5
}
